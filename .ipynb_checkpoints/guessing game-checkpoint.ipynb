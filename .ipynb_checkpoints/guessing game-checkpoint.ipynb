{
 "cells": [
  {
   "cell_type": "code",
   "execution_count": 2,
   "id": "6cb4d9d0",
   "metadata": {},
   "outputs": [
    {
     "name": "stdout",
     "output_type": "stream",
     "text": [
      "Enter Your Value: 65\n",
      "Guessed number is greater than expected\n",
      "Enter Your Value: 50\n",
      "Guessed number is greater than expected\n",
      "Enter Your Value: 40\n",
      "Guessed number is greater than expected\n",
      "Enter Your Value: 30\n",
      "Guessed number is greater than expected\n",
      "Enter Your Value: 20\n",
      "Guessed number is greater than expected\n",
      "Enter Your Value: 10\n",
      "Guessed number is smaller than expected\n",
      "Enter Your Value: 15\n",
      "Guessed number is smaller than expected\n",
      "Enter Your Value: 18\n",
      "Correct Guess\n"
     ]
    }
   ],
   "source": [
    "from random import randint\n",
    "\n",
    "class GuessGame:\n",
    "    def __init__(self):\n",
    "        self.num = randint(1, 100)\n",
    "    \n",
    "    def findValue(self):\n",
    "        while True:\n",
    "            userInput = int(input(\"Enter Your Value: \"))\n",
    "            if(userInput == self.num):\n",
    "                print(\"Correct Guess\")\n",
    "                break\n",
    "            if(userInput > self.num):\n",
    "                print(\"Guessed number is greater than expected\")\n",
    "            if(userInput < self.num):\n",
    "                print(\"Guessed number is smaller than expected\")\n",
    "game = GuessGame()\n",
    "\n",
    "game.findValue()\n",
    "              \n",
    "              "
   ]
  }
 ],
 "metadata": {
  "kernelspec": {
   "display_name": "Python 3 (ipykernel)",
   "language": "python",
   "name": "python3"
  },
  "language_info": {
   "codemirror_mode": {
    "name": "ipython",
    "version": 3
   },
   "file_extension": ".py",
   "mimetype": "text/x-python",
   "name": "python",
   "nbconvert_exporter": "python",
   "pygments_lexer": "ipython3",
   "version": "3.9.13"
  }
 },
 "nbformat": 4,
 "nbformat_minor": 5
}
