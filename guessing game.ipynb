{
 "cells": [
  {
   "cell_type": "code",
   "execution_count": 2,
   "id": "6cb4d9d0",
   "metadata": {},
   "outputs": [
    {
     "name": "stdout",
     "output_type": "stream",
     "text": [
      "Enter Your Value: 65\n",
      "Guessed number is greater than expected\n",
      "Enter Your Value: 50\n",
      "Guessed number is greater than expected\n",
      "Enter Your Value: 40\n",
      "Guessed number is greater than expected\n",
      "Enter Your Value: 30\n",
      "Guessed number is greater than expected\n",
      "Enter Your Value: 20\n",
      "Guessed number is greater than expected\n",
      "Enter Your Value: 10\n",
      "Guessed number is smaller than expected\n",
      "Enter Your Value: 15\n",
      "Guessed number is smaller than expected\n",
      "Enter Your Value: 18\n",
      "Correct Guess\n"
     ]
    }
   ],
   "source": [
    "from random import randint\n",
    "\n",
    "class GuessGame:\n",
    "    def __init__(self):\n",
    "        self.num = randint(1, 100)\n",
    "    \n",
    "    def findValue(self):\n",
    "        while True:\n",
    "            userInput = int(input(\"Enter Your Value: \"))\n",
    "            if(userInput == self.num):\n",
    "                print(\"Correct Guess\")\n",
    "                break\n",
    "            if(userInput > self.num):\n",
    "                print(\"Guessed number is greater than expected\")\n",
    "            if(userInput < self.num):\n",
    "                print(\"Guessed number is smaller than expected\")\n",
    "game = GuessGame()\n",
    "\n",
    "game.findValue()\n",
    "              \n",
    "              "
   ]
  },
  {
   "cell_type": "code",
   "execution_count": 7,
   "id": "6e0f8cc0-40d0-4330-8f14-ab3afcb68431",
   "metadata": {},
   "outputs": [
    {
     "name": "stdin",
     "output_type": "stream",
     "text": [
      "Guess a name BB\n"
     ]
    },
    {
     "name": "stdout",
     "output_type": "stream",
     "text": [
      "Wrong Guess\n"
     ]
    },
    {
     "name": "stdin",
     "output_type": "stream",
     "text": [
      "Guess a name carryminati\n"
     ]
    },
    {
     "name": "stdout",
     "output_type": "stream",
     "text": [
      "Wrong Guess\n"
     ]
    },
    {
     "name": "stdin",
     "output_type": "stream",
     "text": [
      "Guess a name ritu\n"
     ]
    },
    {
     "name": "stdout",
     "output_type": "stream",
     "text": [
      "Wrong Guess\n"
     ]
    },
    {
     "name": "stdin",
     "output_type": "stream",
     "text": [
      "Guess a name sama\n"
     ]
    },
    {
     "name": "stdout",
     "output_type": "stream",
     "text": [
      "Wrong Guess\n"
     ]
    },
    {
     "name": "stdin",
     "output_type": "stream",
     "text": [
      "Guess a name sem\n"
     ]
    },
    {
     "name": "stdout",
     "output_type": "stream",
     "text": [
      "Wrong Guess\n"
     ]
    },
    {
     "name": "stdin",
     "output_type": "stream",
     "text": [
      "Guess a name Sama\n"
     ]
    },
    {
     "name": "stdout",
     "output_type": "stream",
     "text": [
      "Wrong Guess\n"
     ]
    },
    {
     "name": "stdin",
     "output_type": "stream",
     "text": [
      "Guess a name Sam\n"
     ]
    },
    {
     "name": "stdout",
     "output_type": "stream",
     "text": [
      "Correct Guess\n"
     ]
    }
   ],
   "source": [
    "# random integer returning function\n",
    "from random import randint\n",
    "\n",
    "class GuessName:\n",
    "    def __init__(self):\n",
    "        self.lst = ['Sam', \"Sama\", \"sem\", \"sana\", \"ritu\", \"BB\", \"carryminati\"]\n",
    "        self.idx = randint(0, 7)\n",
    "    \n",
    "    def findName(self):\n",
    "        while True:\n",
    "            inp = input(\"Guess a name\")\n",
    "            if(inp == self.lst[self.idx]):\n",
    "                print(\"Correct Guess\")\n",
    "                break\n",
    "            else:\n",
    "                print(\"Wrong Guess\")\n",
    "                \n",
    "game = GuessName()\n",
    "\n",
    "game.findName()\n",
    "\n",
    "\n",
    "\n",
    "            \n",
    "\n"
   ]
  },
  {
   "cell_type": "code",
   "execution_count": null,
   "id": "6c8281f4-398f-45c6-a9d0-5b38273d9d30",
   "metadata": {},
   "outputs": [],
   "source": []
  }
 ],
 "metadata": {
  "kernelspec": {
   "display_name": "Python 3 (ipykernel)",
   "language": "python",
   "name": "python3"
  },
  "language_info": {
   "codemirror_mode": {
    "name": "ipython",
    "version": 3
   },
   "file_extension": ".py",
   "mimetype": "text/x-python",
   "name": "python",
   "nbconvert_exporter": "python",
   "pygments_lexer": "ipython3",
   "version": "3.11.1"
  }
 },
 "nbformat": 4,
 "nbformat_minor": 5
}
