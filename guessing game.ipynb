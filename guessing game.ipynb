{
 "cells": [
  {
   "cell_type": "code",
   "execution_count": 1,
   "id": "6ba86799",
   "metadata": {},
   "outputs": [
    {
     "name": "stdout",
     "output_type": "stream",
     "text": [
      "99\n",
      "Guessed number is greater than expected\n",
      "50\n",
      "Guessed number is smaller than expected\n",
      "70\n",
      "Guessed number is smaller than expected\n",
      "80\n",
      "Guessed number is greater than expected\n",
      "75\n",
      "Guessed number is greater than expected\n",
      "72\n",
      "Guessed number is greater than expected\n",
      "71\n",
      "Correct Guess\n"
     ]
    }
   ],
   "source": [
    "from random import randint\n",
    "\n",
    "class GuessGame:\n",
    "    def __init__(self):\n",
    "        self.num = randint(1, 100)\n",
    "    \n",
    "    def findValue(self):\n",
    "        while True:\n",
    "            userInput = int(input(\"Enter Your Value: \"))\n",
    "            if(userInput == self.num):\n",
    "                print(\"Correct Guess\")\n",
    "                break\n",
    "            if(userInput > self.num):\n",
    "                print(\"Guessed number is greater than expected\")\n",
    "            if(userInput < self.num):\n",
    "                print(\"Guessed number is smaller than expected\")\n",
    "game = GuessGame()\n",
    "\n",
    "game.findValue()\n",
    "              \n",
    "              "
   ]
  }
 ],
 "metadata": {
  "kernelspec": {
   "display_name": "Python 3 (ipykernel)",
   "language": "python",
   "name": "python3"
  },
  "language_info": {
   "codemirror_mode": {
    "name": "ipython",
    "version": 3
   },
   "file_extension": ".py",
   "mimetype": "text/x-python",
   "name": "python",
   "nbconvert_exporter": "python",
   "pygments_lexer": "ipython3",
   "version": "3.9.13"
  }
 },
 "nbformat": 4,
 "nbformat_minor": 5
}
