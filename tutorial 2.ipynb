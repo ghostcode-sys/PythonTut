{
 "cells": [
  {
   "cell_type": "code",
   "execution_count": 25,
   "id": "fb29b0e0",
   "metadata": {
    "scrolled": true
   },
   "outputs": [
    {
     "name": "stdout",
     "output_type": "stream",
     "text": [
      "Hellothisisstring\n",
      "17\n",
      "s\n",
      "r\n",
      "Hello\n",
      "thisi\n",
      "ts\n",
      "Hellothisisstring\n",
      "isiss\n"
     ]
    }
   ],
   "source": [
    "# 30/12/22\n",
    "# String\n",
    "\n",
    "helloStr = \"Hello this is string\"\n",
    "\n",
    "# Hello this is a string\n",
    "# slicing\n",
    "print(helloStr)\n",
    "x = len(helloStr)\n",
    "print(x)\n",
    "# single character\n",
    "print(helloStr[11])\n",
    "# negative indexing\n",
    "print(helloStr[-4])\n",
    "# slicing\n",
    "print(helloStr[0:5])\n",
    "print(helloStr[5:10])\n",
    "\n",
    "print(helloStr[5:10:3])\n",
    "print(helloStr[::1])\n",
    "print(helloStr[-10:-5])"
   ]
  },
  {
   "cell_type": "code",
   "execution_count": 36,
   "id": "5b0d24a9",
   "metadata": {},
   "outputs": [
    {
     "name": "stdout",
     "output_type": "stream",
     "text": [
      "Write a value: 45\n",
      "Your value is: {var} other messages\n",
      "Your value is: 45 other messages\n"
     ]
    }
   ],
   "source": [
    "# string formating\n",
    "var = input(\"Write a value: \")\n",
    "s = \"Your value is: {var} other messages\"\n",
    "sf = f\"Your value is: {var} other messages\"\n",
    "print(s, sf, sep=\"\\n\")"
   ]
  },
  {
   "cell_type": "code",
   "execution_count": 43,
   "id": "18330c20",
   "metadata": {},
   "outputs": [
    {
     "name": "stdout",
     "output_type": "stream",
     "text": [
      "12 13 15\n",
      "12-13-15\n",
      "12 13 15-12 13 15\n"
     ]
    }
   ],
   "source": [
    "# print\n",
    "x = 12\n",
    "y = 13\n",
    "z =15\n",
    "print(x, y, z)\n",
    "# 12-13-15\n",
    "print(x, y, z, sep=\"-\")\n",
    "print(x, y, z, end=\"-\")\n",
    "print(x, y, z)"
   ]
  },
  {
   "cell_type": "code",
   "execution_count": 73,
   "id": "614a62e4",
   "metadata": {},
   "outputs": [
    {
     "name": "stdout",
     "output_type": "stream",
     "text": [
      "cherry\n",
      "['name', 'last name']\n",
      "['mango']\n",
      "1893794303232\n",
      "1893794303232\n",
      "['apple', 'banana', 'papaya', 'strawberry', 'mango']\n",
      "['apple', 'banana', 'papaya', 'strawberry', 'mango', 'blueberries']\n",
      "['apple', 'banana', 'papaya', 'strawberry', 'mango', 'blueberries']\n",
      "[90, 12, 45, 7, -10]\n",
      "[-10, 7, 12, 45, 90]\n",
      "[-10, 7, 12, 45]\n",
      "90\n"
     ]
    }
   ],
   "source": [
    "# list\n",
    "# non continuous memory\n",
    "# mutable\n",
    "\n",
    "thislist = [\"apple\", \"banana\", \"cherry\", \"apple\", \"cherry\", 12, 13]\n",
    "\n",
    "# indexing\n",
    "print(thislist[2])\n",
    "\n",
    "# intialization\n",
    "# empty class initialization\n",
    "lst = []\n",
    "emptylst = list()\n",
    "# with data class intialization\n",
    "thislist = [\"apple\", \"banana\", \"cherry\", \"strawberry\", \"mango\"]\n",
    "newLst = list((\"name\", \"last name\"))\n",
    "print(newLst)\n",
    "\n",
    "# slicing\n",
    "print(thislist[4::])\n",
    "\n",
    "# mutable\n",
    "print(id(thislist))\n",
    "thislist[2] = \"papaya\"\n",
    "print(id(thislist))\n",
    "print(thislist)\n",
    "\n",
    "# thislist[5] = \"fruit\"\n",
    "# appending at last\n",
    "thislist.append(\"blueberries\")\n",
    "print(thislist)\n",
    "\n",
    "# thislist.clear()\n",
    "print(thislist)\n",
    "\n",
    "# copy\n",
    "copyLst = thislist.copy()\n",
    "\n",
    "# sort\n",
    "\n",
    "lst = [90, 12, 45, 7, -10]\n",
    "print(lst)\n",
    "lst.sort()\n",
    "print(lst)\n",
    "\n",
    "# pop\n",
    "var = lst.pop()\n",
    "print(lst)\n",
    "print(var)\n"
   ]
  },
  {
   "cell_type": "code",
   "execution_count": null,
   "id": "0a47e9cc",
   "metadata": {},
   "outputs": [],
   "source": [
    "# iterating over loop\n"
   ]
  }
 ],
 "metadata": {
  "kernelspec": {
   "display_name": "Python 3 (ipykernel)",
   "language": "python",
   "name": "python3"
  },
  "language_info": {
   "codemirror_mode": {
    "name": "ipython",
    "version": 3
   },
   "file_extension": ".py",
   "mimetype": "text/x-python",
   "name": "python",
   "nbconvert_exporter": "python",
   "pygments_lexer": "ipython3",
   "version": "3.9.13"
  }
 },
 "nbformat": 4,
 "nbformat_minor": 5
}
