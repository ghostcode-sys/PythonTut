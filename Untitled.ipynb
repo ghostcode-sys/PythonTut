{
 "cells": [
  {
   "cell_type": "code",
   "execution_count": 9,
   "id": "d3dcbe7c",
   "metadata": {},
   "outputs": [
    {
     "name": "stdout",
     "output_type": "stream",
     "text": [
      "1 <class 'int'>\n",
      "1.0 <class 'float'>\n",
      "1j <class 'complex'>\n"
     ]
    }
   ],
   "source": [
    "# data types\n",
    "# int \n",
    "# flaot\n",
    "# string \n",
    "# Boolean\n",
    "# list\n",
    "# dict\n",
    "# tuple\n",
    "# set\n",
    "# complex\n",
    "\n",
    "# int\n",
    "var = 1\n",
    "print(var, type(var))\n",
    "\n",
    "# float\n",
    "x = 1.0 \n",
    "print(x, type(x))\n",
    "\n",
    "# complex\n",
    "x = 1j\n",
    "print(x, type(x))\n",
    "\n",
    "\n"
   ]
  },
  {
   "cell_type": "code",
   "execution_count": 14,
   "id": "b0a073e2",
   "metadata": {},
   "outputs": [
    {
     "name": "stdout",
     "output_type": "stream",
     "text": [
      "\n",
      "    hello tyhis multiplein \n",
      " djflkajdsf\n",
      "    fkdjalkf \t hellog dfklasdf\n",
      "\n",
      "helolol 1234\n",
      "1709325924656\n",
      "helolol 1234helllog 1234\n",
      "1709326697616\n"
     ]
    }
   ],
   "source": [
    "# string\n",
    "st = \"helolol 1234\"\n",
    "st2 = 'helllog 1234'\n",
    "multlinestr = \"\"\"\n",
    "    hello tyhis multiplein \\n djflkajdsf\n",
    "    fkdjalkf \\t hellog dfklasdf\n",
    "\"\"\"\n",
    "#  \\n  newline\n",
    "#  \\t  newtab\n",
    "print(multlinestr)\n",
    "\n",
    "print(st)\n",
    "print(id(st))\n",
    "st = st + st2\n",
    "print(st)\n",
    "print(id(st))"
   ]
  },
  {
   "cell_type": "code",
   "execution_count": 21,
   "id": "b6b83aec",
   "metadata": {},
   "outputs": [],
   "source": [
    "var = True\n",
    "varFalse = False"
   ]
  },
  {
   "cell_type": "code",
   "execution_count": 35,
   "id": "d1ce3a75",
   "metadata": {},
   "outputs": [
    {
     "name": "stdout",
     "output_type": "stream",
     "text": [
      "1237 1231 3702 411.3333333333333 411 1879080904 1\n",
      "22\n",
      "15\n",
      "10\n",
      "False\n",
      "True\n",
      "True\n",
      "False\n",
      "True\n",
      "True\n",
      "False\n",
      "True\n"
     ]
    }
   ],
   "source": [
    "# operators\n",
    "\n",
    "# Arthimatic operators\n",
    "\"\"\"\n",
    "+ --> plus\n",
    "- --> minus\n",
    "* --> multiple\n",
    "/ ---> divide\n",
    "// -> floor divide\n",
    "** -> power\n",
    "% --> remainder/ Modulus\n",
    "\"\"\"\n",
    "var1 = 1234\n",
    "var2 = 3\n",
    "plus = var1 + var2\n",
    "minus = var1 - var2\n",
    "mul = var1 * var2\n",
    "div = var1 / var2\n",
    "floordiv = var1 // var2\n",
    "p = var1 ** var2\n",
    "rem = var1 % var2\n",
    "print(plus, minus, mul, div, floordiv, p, rem)\n",
    "\n",
    "# Assignment Operators\n",
    "\n",
    "# = assignment\n",
    "var = 10\n",
    "var3 = var + 12\n",
    "print(var3)\n",
    "# += assignment\n",
    "# var = var + 5\n",
    "var += 5\n",
    "print(var)\n",
    "# -= \n",
    "# var = var - 5\n",
    "var -= 5\n",
    "print(var)\n",
    "# *= , /=, //= , **=, &= , |=, ^=, >>=, <<=\n",
    "\n",
    "# comparision Operators\n",
    "\n",
    "#  ==  isEqualTo\n",
    "print(var == var3)\n",
    "var3= var\n",
    "print(var == var3)\n",
    "\n",
    "#  !=\n",
    "var3 = 9\n",
    "print(var != var3)\n",
    "var3= var\n",
    "print(var != var3)\n",
    "\n",
    "#  > , >=\n",
    "var3 = 9\n",
    "print(var > var3)\n",
    "var3= var\n",
    "print(var3 >= var)\n",
    "\n",
    "\n",
    "# < , <=\n",
    "\n",
    "var3 = 9\n",
    "print(var < var3)\n",
    "var3= var\n",
    "print(var <= var3)\n",
    "\n",
    "\n",
    "\n",
    "\n",
    "\n"
   ]
  },
  {
   "cell_type": "code",
   "execution_count": 50,
   "id": "d7ee52e9",
   "metadata": {},
   "outputs": [
    {
     "name": "stdout",
     "output_type": "stream",
     "text": [
      "False\n",
      "True\n",
      "False\n",
      "True\n",
      "False\n",
      "12\n",
      "13\n",
      "1\n",
      "0\n",
      "-13\n",
      "48\n",
      "3\n"
     ]
    }
   ],
   "source": [
    "# Logical operators\n",
    "\n",
    "# and or not\n",
    "print(6 < 7 and 5 > 7)\n",
    "\n",
    "# Identity operators\n",
    "# is \n",
    "x = 12\n",
    "y = 12\n",
    "print(x is y)\n",
    "# is not\n",
    "print(x is not y)\n",
    "# Membership operators\n",
    "# in, not in\n",
    "y = [12, 13, 45, 65]\n",
    "x = 12\n",
    "z = 5\n",
    "print (x in y)\n",
    "print (x not in y)\n",
    "\n",
    "# Bitwise operators\n",
    "# & , | , ^, ~, <<, >>\n",
    "\n",
    "x = 12\n",
    "y = 13\n",
    "print(x & y)\n",
    "print(x | y)\n",
    "print(x ^ y)\n",
    "print(x^x)\n",
    "print(~x)\n",
    "print(x << 2)\n",
    "print(x >> 2)\n"
   ]
  }
 ],
 "metadata": {
  "kernelspec": {
   "display_name": "Python 3 (ipykernel)",
   "language": "python",
   "name": "python3"
  },
  "language_info": {
   "codemirror_mode": {
    "name": "ipython",
    "version": 3
   },
   "file_extension": ".py",
   "mimetype": "text/x-python",
   "name": "python",
   "nbconvert_exporter": "python",
   "pygments_lexer": "ipython3",
   "version": "3.9.13"
  }
 },
 "nbformat": 4,
 "nbformat_minor": 5
}
