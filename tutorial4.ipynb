{
 "cells": [
  {
   "cell_type": "code",
   "execution_count": 14,
   "id": "814a2ddd",
   "metadata": {},
   "outputs": [
    {
     "name": "stdout",
     "output_type": "stream",
     "text": [
      "<class 'dict'>\n",
      "Prashant\n",
      "{'firstname': 'Ravi', 'lastname': 'kumar', 'Gender': 'Male'}\n",
      "{'firstname': 'Ravi', 'lastname': 'kumar', 'Gender': 'Male', 'age': 18}\n",
      "{'firstname': 'Ravi', 'lastname': 'kumar', 'Gender': 'Male'}\n",
      "firstname Ravi\n",
      "lastname kumar\n",
      "Gender Male\n",
      "dict_keys(['firstname', 'lastname', 'Gender'])\n",
      "dict_values(['Ravi', 'kumar', 'Male'])\n"
     ]
    }
   ],
   "source": [
    "# dictionary \n",
    "\n",
    "# key:value pair \n",
    "\n",
    "# intialization\n",
    "\n",
    "mp = {}\n",
    "\n",
    "print(type(mp))\n",
    "\n",
    "mp2 = dict()\n",
    "\n",
    "\n",
    "# valued initialization\n",
    "mp3 = {\n",
    "    \"firstname\": \"Prashant\",\n",
    "    \"lastname\": \"Chandel\",\n",
    "    \"Gender\": \"Male\"\n",
    "}\n",
    "\n",
    "print(mp3[\"firstname\"])\n",
    "# update a key\n",
    "mp3[\"firstname\"] = \"Ravi\"\n",
    "mp3.update({\"lastname\": \"kumar\"})\n",
    "print(mp3)\n",
    "\n",
    "# add a key\n",
    "\n",
    "mp3[\"age\"] = 18\n",
    "print(mp3)\n",
    "\n",
    "# delete a value\n",
    "del mp3[\"age\"]\n",
    "print(mp3)\n",
    "\n",
    "\n",
    "# loop over dictionary\n",
    "for i in mp3:\n",
    "    print(i, mp3[i])\n",
    "    \n",
    "# keys()\n",
    "print(mp3.keys())\n",
    "\n",
    "# values\n",
    "print(mp3.values())\n"
   ]
  },
  {
   "cell_type": "code",
   "execution_count": 23,
   "id": "d0a703af",
   "metadata": {},
   "outputs": [
    {
     "name": "stdout",
     "output_type": "stream",
     "text": [
      "outside if condition\n",
      "var value is 3\n",
      "value is neither 2 nor 3\n"
     ]
    }
   ],
   "source": [
    "# if elif else\n",
    "\n",
    "# if condition:\n",
    "#     code \n",
    "var = 3\n",
    "if var == 2:\n",
    "    print(\"var value is 2\")\n",
    "print(\"outside if condition\")\n",
    "\n",
    "\n",
    "# elif\n",
    "var = 3\n",
    "if var == 2:\n",
    "    print(\"var value is 2\")\n",
    "elif var == 3:\n",
    "    print(\"var value is 3\")\n",
    "    \n",
    "    \n",
    "# else\n",
    "var = 5\n",
    "if var == 2:\n",
    "    print(\"var value is 2\")\n",
    "elif var == 3:\n",
    "    print(\"var value is 3\")\n",
    "else:\n",
    "    print(\"value is neither 2 nor 3\")"
   ]
  },
  {
   "cell_type": "code",
   "execution_count": 24,
   "id": "06646aba",
   "metadata": {},
   "outputs": [
    {
     "name": "stdout",
     "output_type": "stream",
     "text": [
      "1\n",
      "2\n",
      "3\n",
      "4\n",
      "5\n",
      "6\n",
      "7\n",
      "8\n",
      "9\n",
      "10\n"
     ]
    }
   ],
   "source": [
    "# loop\n",
    "# 1. while, 2. for\n",
    "\n",
    "# while\n",
    "\n",
    "# syntax\n",
    "# while(condition):\n",
    "#     code to run\n",
    "\n",
    "i = 1\n",
    "while(i <= 10):\n",
    "    print(i)\n",
    "    i += 1"
   ]
  },
  {
   "cell_type": "code",
   "execution_count": 29,
   "id": "d9d27da1",
   "metadata": {},
   "outputs": [
    {
     "name": "stdout",
     "output_type": "stream",
     "text": [
      "1\n",
      "3\n",
      "5\n",
      "7\n",
      "9\n",
      "10\n",
      "7\n",
      "4\n",
      "1\n"
     ]
    }
   ],
   "source": [
    "# for loop\n",
    "\n",
    "# synatax\n",
    "# for variable in range(start, end, step)\n",
    "# start -- > inclusive\n",
    "# end --> exclusive\n",
    "# step --> optional\n",
    "for j in range(1, 11, 2):\n",
    "    print(j)\n",
    "\n",
    "for j in range(10, 0, -3):\n",
    "    print(j)"
   ]
  },
  {
   "cell_type": "code",
   "execution_count": 34,
   "id": "0a44d64f",
   "metadata": {},
   "outputs": [
    {
     "name": "stdout",
     "output_type": "stream",
     "text": [
      "20\n",
      "20 is even\n"
     ]
    }
   ],
   "source": [
    "# 1. lst : create a list containing 0 to 100 number\n",
    "# 2. evenlst: that contains 0 - 100 only even\n",
    "# 3. oddlst: that contains 0 - 100 only odd\n",
    "\n",
    "\n",
    "# if else\n",
    "# 1. take a input from user\n",
    "# 2. print if it is even or odd\n",
    "var = int(input())\n",
    "if(var % 2 == 0):\n",
    "    print(f\"{var} is even\")\n",
    "else:\n",
    "    print(f\"{var} is odd\")\n",
    "    \n",
    "# if else\n",
    "# 1. take a input from user\n",
    "# 2. print if it is divisible by 3\n",
    "\n",
    "\n",
    "\n",
    "# 1. take a input from user\n",
    "# 2. print if it is even or odd\n"
   ]
  }
 ],
 "metadata": {
  "kernelspec": {
   "display_name": "Python 3 (ipykernel)",
   "language": "python",
   "name": "python3"
  },
  "language_info": {
   "codemirror_mode": {
    "name": "ipython",
    "version": 3
   },
   "file_extension": ".py",
   "mimetype": "text/x-python",
   "name": "python",
   "nbconvert_exporter": "python",
   "pygments_lexer": "ipython3",
   "version": "3.9.13"
  }
 },
 "nbformat": 4,
 "nbformat_minor": 5
}
