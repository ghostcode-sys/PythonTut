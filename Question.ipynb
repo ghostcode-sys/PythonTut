{
 "cells": [
  {
   "cell_type": "code",
   "execution_count": 3,
   "id": "9a5c51f3",
   "metadata": {},
   "outputs": [
    {
     "name": "stdout",
     "output_type": "stream",
     "text": [
      "HELLOWORLD\n",
      "Helloworld\n",
      "hello\n",
      "e\n",
      "l\n",
      "w\n",
      "r\n",
      "d\n"
     ]
    }
   ],
   "source": [
    "# string\n",
    "s = \"helloworld\"\n",
    "# convert above string in UPPER CASE letters\n",
    "upper_s = s.upper()\n",
    "print(upper_s)\n",
    "# convert above string in Capital letter (ex: Helloworld)\n",
    "lower_s = s.capitalize()\n",
    "print(lower_s)\n",
    "\n",
    "# print only hello word\n",
    "print(s[:5])\n",
    "\n",
    "# print even character in new line\n",
    "for i in range(1, len(s), 2):\n",
    "    print(s[i])\n"
   ]
  },
  {
   "cell_type": "code",
   "execution_count": 5,
   "id": "90fdc27b",
   "metadata": {},
   "outputs": [
    {
     "name": "stdout",
     "output_type": "stream",
     "text": [
      "[0, 2, 4, 6, 8, 10, 12, 14, 16, 18, 20, 22, 24, 26, 28, 30, 32, 34, 36, 38, 40, 42, 44, 46, 48, 50, 52, 54, 56, 58, 60, 62, 64, 66, 68, 70, 72, 74, 76, 78, 80, 82, 84, 86, 88, 90, 92, 94, 96, 98]\n",
      "[0, 2, 4, 6, 8, 10, 12, 14, 16, 18, 20, 22, 24, 26, 28, 30, 32, 34, 36, 38, 40, 42, 44, 46, 48, 50, 52, 54, 56, 58, 60, 62, 64, 66, 68, 70, 72, 74, 76, 78, 80, 82, 84, 86, 88, 90, 92, 94, 96, 98]\n"
     ]
    }
   ],
   "source": [
    "# list\n",
    "\n",
    "# use list comprehension to create a list with even number\n",
    "lst = [val for val in range(0, 100, 2)]\n",
    "\n",
    "print(lst)\n",
    "\n",
    "# 2 method\n",
    "\n",
    "lst2 = [val for val in range(100) if val%2 == 0]\n",
    "print(lst2)"
   ]
  },
  {
   "cell_type": "code",
   "execution_count": 7,
   "id": "9c41aa3d",
   "metadata": {},
   "outputs": [
    {
     "name": "stdout",
     "output_type": "stream",
     "text": [
      "86\n",
      "500\n",
      "17.2%\n"
     ]
    }
   ],
   "source": [
    "# Take obtained mark from user\n",
    "# Take maximum mark from user\n",
    "# print percentage \n",
    "obt_mark = eval(input())\n",
    "\n",
    "max_mark = eval(input())\n",
    "\n",
    "print(obt_mark/max_mark*100, \"%\", sep=\"\")\n",
    "\n"
   ]
  },
  {
   "cell_type": "code",
   "execution_count": 2,
   "id": "c6f00acb",
   "metadata": {},
   "outputs": [],
   "source": [
    "# create a set that contains five fruits name\n"
   ]
  },
  {
   "cell_type": "code",
   "execution_count": 10,
   "id": "08bd16b3",
   "metadata": {},
   "outputs": [
    {
     "name": "stdout",
     "output_type": "stream",
     "text": [
      "98\n",
      "65\n",
      "163\n",
      "-1\n"
     ]
    }
   ],
   "source": [
    "# take two number as a input from user\n",
    "num1 = eval(input())\n",
    "num2 = eval(input())\n",
    "sum = num1 + num2\n",
    "# add them\n",
    "print(sum)\n",
    "\n",
    "# check if number is divisible by 5 or not\n",
    "# check if number is divisible by 2 or not\n",
    "# if above two condition fails then print(-1)\n",
    "\n",
    "if sum % 5 == 0:\n",
    "    print(\"Divisible by 5\")\n",
    "elif sum % 2 == 0:\n",
    "    print(\"Divisible by 2\")\n",
    "else:\n",
    "    print(-1)"
   ]
  },
  {
   "cell_type": "code",
   "execution_count": 11,
   "id": "ba1c9f2d",
   "metadata": {},
   "outputs": [
    {
     "name": "stdout",
     "output_type": "stream",
     "text": [
      "1246\n"
     ]
    }
   ],
   "source": [
    "var1 = 1234\n",
    "var2 = 12\n",
    "plus = var1 + var2\n",
    "print(plus)"
   ]
  },
  {
   "cell_type": "code",
   "execution_count": 12,
   "id": "b4c94c1a",
   "metadata": {},
   "outputs": [
    {
     "name": "stdout",
     "output_type": "stream",
     "text": [
      "1234\n"
     ]
    }
   ],
   "source": [
    "print(var1)"
   ]
  }
 ],
 "metadata": {
  "kernelspec": {
   "display_name": "Python 3 (ipykernel)",
   "language": "python",
   "name": "python3"
  },
  "language_info": {
   "codemirror_mode": {
    "name": "ipython",
    "version": 3
   },
   "file_extension": ".py",
   "mimetype": "text/x-python",
   "name": "python",
   "nbconvert_exporter": "python",
   "pygments_lexer": "ipython3",
   "version": "3.9.13"
  }
 },
 "nbformat": 4,
 "nbformat_minor": 5
}
