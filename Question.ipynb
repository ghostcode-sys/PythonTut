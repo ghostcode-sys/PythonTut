{
 "cells": [
  {
   "cell_type": "code",
   "execution_count": 1,
   "id": "9a5c51f3",
   "metadata": {},
   "outputs": [],
   "source": [
    "# string\n",
    "s = \"helloworld\"\n",
    "# convert above string in UPPER CASE letters\n",
    "\n",
    "# convert above string in Capital letter (ex: Helloworld)\n",
    "\n",
    "\n",
    "# print only hello word\n",
    "\n",
    "# print ever character in new line\n"
   ]
  },
  {
   "cell_type": "code",
   "execution_count": null,
   "id": "90fdc27b",
   "metadata": {},
   "outputs": [],
   "source": [
    "# list\n",
    "\n",
    "# use list comprehension to create a list with even number\n",
    "\n"
   ]
  },
  {
   "cell_type": "code",
   "execution_count": null,
   "id": "9c41aa3d",
   "metadata": {},
   "outputs": [],
   "source": [
    "# Take obtained mark from user\n",
    "# Take maximum mark from user\n",
    "# print percentage \n",
    "\n"
   ]
  },
  {
   "cell_type": "code",
   "execution_count": 2,
   "id": "c6f00acb",
   "metadata": {},
   "outputs": [],
   "source": [
    "# create a set that contains five fruits name\n"
   ]
  },
  {
   "cell_type": "code",
   "execution_count": null,
   "id": "08bd16b3",
   "metadata": {},
   "outputs": [],
   "source": [
    "# take two number as a input from user\n",
    "# add them\n",
    "# check if number is divisible by 5 or not\n",
    "# check if number is divisible by 2 or not\n",
    "# if above two condition fails then print(-1)"
   ]
  }
 ],
 "metadata": {
  "kernelspec": {
   "display_name": "Python 3 (ipykernel)",
   "language": "python",
   "name": "python3"
  },
  "language_info": {
   "codemirror_mode": {
    "name": "ipython",
    "version": 3
   },
   "file_extension": ".py",
   "mimetype": "text/x-python",
   "name": "python",
   "nbconvert_exporter": "python",
   "pygments_lexer": "ipython3",
   "version": "3.9.13"
  }
 },
 "nbformat": 4,
 "nbformat_minor": 5
}
