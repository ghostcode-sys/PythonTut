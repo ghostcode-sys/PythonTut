{
 "cells": [
  {
   "cell_type": "code",
   "execution_count": 1,
   "id": "1ba29c52",
   "metadata": {},
   "outputs": [
    {
     "name": "stdout",
     "output_type": "stream",
     "text": [
      "<function <lambda> at 0x000001DC181E0820>\n",
      "30\n"
     ]
    }
   ],
   "source": [
    "# lambda funtion\n",
    "# val = lambda paramenter, parameter ,.... : expression\n",
    "\n",
    "a = 10\n",
    "b = 20\n",
    "val = lambda a, b : a + b\n",
    "print(val)\n",
    "print(val(a, b))"
   ]
  },
  {
   "cell_type": "code",
   "execution_count": 2,
   "id": "2f9fcf03",
   "metadata": {},
   "outputs": [
    {
     "name": "stdout",
     "output_type": "stream",
     "text": [
      "4 15 4\n"
     ]
    }
   ],
   "source": [
    "# class and object\n",
    "\n",
    "# class => blueprint\n",
    "\n",
    "# class has two things : 1. attribute 2.method\n",
    "class Car:\n",
    "#     attritubes\n",
    "    door = 4\n",
    "    engine = 15\n",
    "    wheels = 4\n",
    "\n",
    "# object \n",
    "# object is a instance of class\n",
    "\n",
    "ob = Car()\n",
    "\n",
    "print(ob.door, ob.engine, ob.wheels)    "
   ]
  },
  {
   "cell_type": "code",
   "execution_count": 3,
   "id": "77b02dd6",
   "metadata": {
    "scrolled": true
   },
   "outputs": [
    {
     "name": "stdout",
     "output_type": "stream",
     "text": [
      "<__main__.Truck object at 0x000001DC1820C4C0>\n",
      "False\n",
      "False\n",
      "<__main__.Truck object at 0x000001DC1820C4C0>\n",
      "True\n",
      "False\n",
      "4\n",
      "10\n",
      "4\n"
     ]
    }
   ],
   "source": [
    "class Truck:\n",
    "#     attritubes\n",
    "    door = 4\n",
    "    engine = 15\n",
    "    wheels = 4 \n",
    "    loaded = False\n",
    "    \n",
    "#     methods\n",
    "    def setLoadTrue(self):\n",
    "        print(self)\n",
    "        self.loaded = True\n",
    "    \n",
    "    def setwheels(self, noOfWheels):\n",
    "        self.wheels = noOfWheels\n",
    "\n",
    "#         objects\n",
    "tata = Truck()\n",
    "\n",
    "ashok = Truck()\n",
    "print(tata)\n",
    "print(tata.loaded)\n",
    "print(ashok.loaded)\n",
    "tata.setLoadTrue()\n",
    "print(tata.loaded)\n",
    "print(ashok.loaded)\n",
    "print(tata.wheels)\n",
    "tata.setwheels(10)\n",
    "print(tata.wheels)\n",
    "print(ashok.wheels)"
   ]
  },
  {
   "cell_type": "code",
   "execution_count": 4,
   "id": "30d8c2fe",
   "metadata": {},
   "outputs": [
    {
     "name": "stdout",
     "output_type": "stream",
     "text": [
      "4\n"
     ]
    }
   ],
   "source": [
    "# constructor ==> __init()\n",
    "\n",
    "# without parameterize\n",
    "class CarCopy:\n",
    "#     attritubes\n",
    "    def __init__(self):\n",
    "        self.doors = 4\n",
    "        self.engine = 15\n",
    "        self.wheels = 4\n",
    "\n",
    "nano = CarCopy()\n",
    "print(nano.doors)\n",
    "\n",
    "\n",
    "\n"
   ]
  },
  {
   "cell_type": "code",
   "execution_count": 5,
   "id": "cfeecb66",
   "metadata": {},
   "outputs": [
    {
     "name": "stdout",
     "output_type": "stream",
     "text": [
      "Prashant 12\n",
      "Anshika 110\n"
     ]
    }
   ],
   "source": [
    "# with parameter\n",
    "class Person:\n",
    "    def __init__(self, name, age):\n",
    "        self.name = name\n",
    "        self.age = age\n",
    "\n",
    "\n",
    "prashant = Person(\"Prashant\", 12)\n",
    "\n",
    "anshika = Person(\"Anshika\", 110)\n",
    "\n",
    "print(prashant.name, prashant.age)\n",
    "        \n",
    "\n",
    "print(anshika.name, anshika.age)"
   ]
  },
  {
   "cell_type": "code",
   "execution_count": 12,
   "id": "38b46ff5",
   "metadata": {
    "scrolled": true
   },
   "outputs": [
    {
     "name": "stdout",
     "output_type": "stream",
     "text": [
      "<__main__.Person object at 0x000001DC181C8340>\n"
     ]
    }
   ],
   "source": [
    "print(prashant)"
   ]
  },
  {
   "cell_type": "code",
   "execution_count": 13,
   "id": "50e55db6",
   "metadata": {},
   "outputs": [
    {
     "name": "stdout",
     "output_type": "stream",
     "text": [
      "This Person object of Prashant\n"
     ]
    }
   ],
   "source": [
    "class Person:\n",
    "    def __init__(self, name, age):\n",
    "        self.name = name\n",
    "        self.age = age\n",
    "    def __str__(self):\n",
    "        return f\"This Person object of {self.name}\"\n",
    "\n",
    "prash = Person(\"Prashant\", 22)\n",
    "\n",
    "print(prash)\n",
    "    "
   ]
  },
  {
   "cell_type": "code",
   "execution_count": 15,
   "id": "63341eb8",
   "metadata": {},
   "outputs": [
    {
     "name": "stdout",
     "output_type": "stream",
     "text": [
      "314.0\n"
     ]
    }
   ],
   "source": [
    "# Abstraction\n",
    "class Circle:\n",
    "    def __init__(self, radius):\n",
    "        self.radius = radius\n",
    "        \n",
    "    def findArea(self):\n",
    "        return 3.14*self.radius*self.radius\n",
    "\n",
    "a = Circle(10)\n",
    "print(a.findArea())"
   ]
  },
  {
   "cell_type": "code",
   "execution_count": 19,
   "id": "9978acdb",
   "metadata": {},
   "outputs": [
    {
     "data": {
      "text/plain": [
       "'Prashant'"
      ]
     },
     "execution_count": 19,
     "metadata": {},
     "output_type": "execute_result"
    }
   ],
   "source": [
    "# Encapluslation\n",
    "\n",
    "class Person:\n",
    "    def __init__(self, name, age):\n",
    "        self.name = name\n",
    "        self.age = age\n",
    "        \n",
    "    def getName(self):\n",
    "        return self.name\n",
    "    \n",
    "    def __str__(self):\n",
    "        return f\"This Person object of {self.name}\"\n",
    "    \n",
    "    \n",
    "prash = Person(\"Prashant\", 22)\n",
    "prash.getName()"
   ]
  },
  {
   "cell_type": "code",
   "execution_count": 22,
   "id": "1ea13bfb",
   "metadata": {},
   "outputs": [
    {
     "name": "stdout",
     "output_type": "stream",
     "text": [
      "Ravi\n"
     ]
    }
   ],
   "source": [
    "# Inheritance\n",
    "class Person:\n",
    "    def __init__(self, name, age):\n",
    "        self.name = name\n",
    "        self.age = age\n",
    "        \n",
    "    def getName(self):\n",
    "        return self.name\n",
    "    \n",
    "    def __str__(self):\n",
    "        return f\"This Person object of {self.name}\"\n",
    "\n",
    "\n",
    "class Student(Person):\n",
    "    pass\n",
    "\n",
    "st = Student(\"Ravi\", 19)\n",
    "\n",
    "print(st.getName())\n"
   ]
  },
  {
   "cell_type": "code",
   "execution_count": 30,
   "id": "2eb10c74",
   "metadata": {},
   "outputs": [
    {
     "name": "stdout",
     "output_type": "stream",
     "text": [
      "ravi\n",
      "12\n",
      "19\n"
     ]
    }
   ],
   "source": [
    "class Person:\n",
    "    def __init__(self, name, age):\n",
    "        self.name = name\n",
    "        self.age = age\n",
    "        \n",
    "    def getName(self):\n",
    "        return self.name\n",
    "    \n",
    "    def __str__(self):\n",
    "        return f\"This Person object of {self.name}\"\n",
    "\n",
    "\n",
    "class Student(Person):\n",
    "    def __init__(self, name, age, cl):\n",
    "#         Person.__init__(self, name, age)\n",
    "        super().__init__(name, age)\n",
    "        self.cl = cl\n",
    "\n",
    "st = Student(\"ravi\", 19, 12)\n",
    "\n",
    "print(st.getName())\n",
    "print(st.cl)\n",
    "print(st.age)"
   ]
  },
  {
   "cell_type": "code",
   "execution_count": 28,
   "id": "fdbf947c",
   "metadata": {},
   "outputs": [
    {
     "name": "stdout",
     "output_type": "stream",
     "text": [
      "<__main__.Person object at 0x000001DC182E2FD0>\n",
      "<__main__.Person object at 0x000001DC182E2FD0>\n",
      "<__main__.Person object at 0x000001DC182E2B50>\n",
      "<__main__.Person object at 0x000001DC182E2B50>\n"
     ]
    }
   ],
   "source": [
    "class Person:\n",
    "    def __init__(self, name, age):\n",
    "        self.name = name\n",
    "        self.age = age\n",
    "        \n",
    "    def getName(self):\n",
    "        return self.name\n",
    "    \n",
    "    def printX(self):\n",
    "        print(self)\n",
    "\n",
    "p1 = Person(\"Anshika\", 22)\n",
    "p2 = Person(\"Ajat\", 24)\n",
    "print(p1)\n",
    "p1.printX()\n",
    "\n",
    "print(p2)\n",
    "p2.printX()"
   ]
  },
  {
   "cell_type": "code",
   "execution_count": 34,
   "id": "20e00a78",
   "metadata": {},
   "outputs": [
    {
     "name": "stdout",
     "output_type": "stream",
     "text": [
      "30\n",
      "60\n"
     ]
    }
   ],
   "source": [
    "# Polymorphism\n",
    "def sumVal(a, *b):\n",
    "    sm = a\n",
    "    for i in b:\n",
    "        sm += i\n",
    "    return sm\n",
    "a = 10\n",
    "b = 20\n",
    "c = 30\n",
    "\n",
    "d = sumVal(a, b)\n",
    "print(d)\n",
    "\n",
    "e = sumVal(a, b, c)\n",
    "print(e)"
   ]
  }
 ],
 "metadata": {
  "kernelspec": {
   "display_name": "Python 3 (ipykernel)",
   "language": "python",
   "name": "python3"
  },
  "language_info": {
   "codemirror_mode": {
    "name": "ipython",
    "version": 3
   },
   "file_extension": ".py",
   "mimetype": "text/x-python",
   "name": "python",
   "nbconvert_exporter": "python",
   "pygments_lexer": "ipython3",
   "version": "3.9.13"
  }
 },
 "nbformat": 4,
 "nbformat_minor": 5
}
