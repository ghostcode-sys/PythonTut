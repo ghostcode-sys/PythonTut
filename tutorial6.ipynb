{
 "cells": [
  {
   "cell_type": "code",
   "execution_count": 4,
   "id": "a0383bb4",
   "metadata": {},
   "outputs": [
    {
     "name": "stdout",
     "output_type": "stream",
     "text": [
      "<function <lambda> at 0x00000125DA8424C0>\n",
      "30\n"
     ]
    }
   ],
   "source": [
    "# lambda funtion\n",
    "# val = lambda paramenter, parameter ,.... : expression\n",
    "\n",
    "a = 10\n",
    "b = 20\n",
    "val = lambda a, b : a + b\n",
    "print(val)\n",
    "print(val(a, b))"
   ]
  },
  {
   "cell_type": "code",
   "execution_count": 7,
   "id": "56746575",
   "metadata": {},
   "outputs": [
    {
     "name": "stdout",
     "output_type": "stream",
     "text": [
      "4 15 4\n"
     ]
    }
   ],
   "source": [
    "# class and object\n",
    "\n",
    "# class => blueprint\n",
    "\n",
    "# class has two things : 1. attribute 2.method\n",
    "class Car:\n",
    "#     attritubes\n",
    "    door = 4\n",
    "    engine = 15\n",
    "    wheels = 4\n",
    "\n",
    "# object \n",
    "# object is a instance of class\n",
    "\n",
    "ob = Car()\n",
    "\n",
    "print(ob.door, ob.engine, ob.wheels)    "
   ]
  },
  {
   "cell_type": "code",
   "execution_count": 18,
   "id": "6394f1b0",
   "metadata": {
    "scrolled": true
   },
   "outputs": [
    {
     "name": "stdout",
     "output_type": "stream",
     "text": [
      "<__main__.Truck object at 0x00000125DA90D520>\n",
      "False\n",
      "False\n",
      "<__main__.Truck object at 0x00000125DA90D520>\n",
      "True\n",
      "False\n",
      "4\n",
      "10\n",
      "4\n",
      "6\n"
     ]
    }
   ],
   "source": [
    "class Truck:\n",
    "#     attritubes\n",
    "    door = 4\n",
    "    engine = 15\n",
    "    wheels = 4 \n",
    "    loaded = False\n",
    "    \n",
    "#     methods\n",
    "    def setLoadTrue(self):\n",
    "        print(self)\n",
    "        self.loaded = True\n",
    "    \n",
    "    def setwheels(self, noOfWheels):\n",
    "        self.wheels = noOfWheels\n",
    "\n",
    "#         objects\n",
    "tata = Truck()\n",
    "\n",
    "ashok = Truck()\n",
    "print(tata)\n",
    "print(tata.loaded)\n",
    "print(ashok.loaded)\n",
    "tata.setLoadTrue()\n",
    "print(tata.loaded)\n",
    "print(ashok.loaded)\n",
    "print(tata.wheels)\n",
    "tata.setwheels(10)\n",
    "print(tata.wheels)\n",
    "print(ashok.wheels)"
   ]
  },
  {
   "cell_type": "code",
   "execution_count": 23,
   "id": "d30a617a",
   "metadata": {},
   "outputs": [
    {
     "name": "stdout",
     "output_type": "stream",
     "text": [
      "4\n"
     ]
    }
   ],
   "source": [
    "# constructor ==> __init()\n",
    "\n",
    "# without parameterize\n",
    "class CarCopy:\n",
    "#     attritubes\n",
    "    def __init__(self):\n",
    "        self.doors = 4\n",
    "        self.engine = 15\n",
    "        self.wheels = 4\n",
    "\n",
    "nano = CarCopy()\n",
    "print(nano.doors)\n",
    "\n",
    "\n",
    "\n"
   ]
  },
  {
   "cell_type": "code",
   "execution_count": 25,
   "id": "5e341b59",
   "metadata": {},
   "outputs": [
    {
     "name": "stdout",
     "output_type": "stream",
     "text": [
      "Prashant 12\n",
      "Anshika 110\n"
     ]
    }
   ],
   "source": [
    "# with parameter\n",
    "class Person:\n",
    "    def __init__(self, name, age):\n",
    "        self.name = name\n",
    "        self.age = age\n",
    "\n",
    "\n",
    "prashant = Person(\"Prashant\", 12)\n",
    "\n",
    "anshika = Person(\"Anshika\", 110)\n",
    "\n",
    "print(prashant.name, prashant.age)\n",
    "        \n",
    "\n",
    "print(anshika.name, anshika.age)"
   ]
  },
  {
   "cell_type": "code",
   "execution_count": null,
   "id": "5c2fb634",
   "metadata": {},
   "outputs": [],
   "source": [
    "prashant.__str__"
   ]
  }
 ],
 "metadata": {
  "kernelspec": {
   "display_name": "Python 3 (ipykernel)",
   "language": "python",
   "name": "python3"
  },
  "language_info": {
   "codemirror_mode": {
    "name": "ipython",
    "version": 3
   },
   "file_extension": ".py",
   "mimetype": "text/x-python",
   "name": "python",
   "nbconvert_exporter": "python",
   "pygments_lexer": "ipython3",
   "version": "3.9.13"
  }
 },
 "nbformat": 4,
 "nbformat_minor": 5
}
