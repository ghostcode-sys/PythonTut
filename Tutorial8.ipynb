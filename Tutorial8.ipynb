{
 "cells": [
  {
   "cell_type": "code",
   "execution_count": 1,
   "id": "66ea46ea",
   "metadata": {},
   "outputs": [
    {
     "ename": "NameError",
     "evalue": "name 'x' is not defined",
     "output_type": "error",
     "traceback": [
      "\u001b[1;31m---------------------------------------------------------------------------\u001b[0m",
      "\u001b[1;31mNameError\u001b[0m                                 Traceback (most recent call last)",
      "Cell \u001b[1;32mIn[1], line 3\u001b[0m\n\u001b[0;32m      1\u001b[0m \u001b[38;5;66;03m# Try and except\u001b[39;00m\n\u001b[1;32m----> 3\u001b[0m \u001b[38;5;28mprint\u001b[39m(\u001b[43mx\u001b[49m)\n",
      "\u001b[1;31mNameError\u001b[0m: name 'x' is not defined"
     ]
    }
   ],
   "source": [
    "# Try and except\n",
    "\n",
    "print(x)"
   ]
  },
  {
   "cell_type": "code",
   "execution_count": 2,
   "id": "1b261d25",
   "metadata": {},
   "outputs": [
    {
     "name": "stdout",
     "output_type": "stream",
     "text": [
      "something went wrong\n"
     ]
    }
   ],
   "source": [
    "try:\n",
    "    print(x)\n",
    "except:\n",
    "    print(\"something went wrong\")"
   ]
  },
  {
   "cell_type": "code",
   "execution_count": 3,
   "id": "95a5b380",
   "metadata": {},
   "outputs": [
    {
     "name": "stdout",
     "output_type": "stream",
     "text": [
      "10\n"
     ]
    }
   ],
   "source": [
    "x = 10\n",
    "try:\n",
    "    print(x)\n",
    "except:\n",
    "    print(\"X is not defined\")"
   ]
  },
  {
   "cell_type": "code",
   "execution_count": 4,
   "id": "5ad5f91b",
   "metadata": {},
   "outputs": [
    {
     "name": "stdout",
     "output_type": "stream",
     "text": [
      "Hello\n",
      "everything is fine\n"
     ]
    }
   ],
   "source": [
    "# try except else\n",
    "\n",
    "try:\n",
    "    print(\"Hello\")\n",
    "except:\n",
    "    print('something went wrong')\n",
    "else:\n",
    "    print(\"everything is fine\")"
   ]
  },
  {
   "cell_type": "code",
   "execution_count": 6,
   "id": "81549bfb",
   "metadata": {},
   "outputs": [
    {
     "name": "stdout",
     "output_type": "stream",
     "text": [
      "something went wrong\n"
     ]
    }
   ],
   "source": [
    "try:\n",
    "    print(y)\n",
    "except:\n",
    "    print('something went wrong')\n",
    "else:\n",
    "    print(\"everything is fine\")"
   ]
  },
  {
   "cell_type": "code",
   "execution_count": 7,
   "id": "1ed0a2e7",
   "metadata": {},
   "outputs": [
    {
     "name": "stdout",
     "output_type": "stream",
     "text": [
      "try block\n",
      "else block\n",
      "final block\n"
     ]
    }
   ],
   "source": [
    "# finally\n",
    "\n",
    "try:\n",
    "    print(\"try block\")\n",
    "except:\n",
    "    print('except block')\n",
    "else:\n",
    "    print(\"else block\")\n",
    "finally:\n",
    "    print(\"final block\")"
   ]
  },
  {
   "cell_type": "code",
   "execution_count": 8,
   "id": "c2281dad",
   "metadata": {},
   "outputs": [
    {
     "name": "stdout",
     "output_type": "stream",
     "text": [
      "except block\n",
      "final block\n"
     ]
    }
   ],
   "source": [
    "try:\n",
    "    print(z)\n",
    "except:\n",
    "    print('except block')\n",
    "else:\n",
    "    print(\"else block\")\n",
    "finally:\n",
    "    print(\"final block\")"
   ]
  },
  {
   "cell_type": "code",
   "execution_count": null,
   "id": "260fa379",
   "metadata": {},
   "outputs": [],
   "source": [
    "import matplotlib.pyplot as plt\n",
    "import numpy as np\n",
    "\n",
    "xpoints = np.array([0, 6])\n",
    "ypoints = np.array([0, 250])\n",
    "\n",
    "plt.plot(xpoints, ypoints)\n",
    "plt.show()"
   ]
  },
  {
   "cell_type": "code",
   "execution_count": 1,
   "id": "12c37fe0",
   "metadata": {},
   "outputs": [
    {
     "name": "stdout",
     "output_type": "stream",
     "text": [
      "Hello sir/mam\n",
      "None\n"
     ]
    }
   ],
   "source": [
    "import index\n",
    "\n",
    "print(index.greeting())"
   ]
  },
  {
   "cell_type": "code",
   "execution_count": null,
   "id": "f64f12d5",
   "metadata": {},
   "outputs": [],
   "source": []
  }
 ],
 "metadata": {
  "kernelspec": {
   "display_name": "Python 3",
   "language": "python",
   "name": "python3"
  },
  "language_info": {
   "codemirror_mode": {
    "name": "ipython",
    "version": 3
   },
   "file_extension": ".py",
   "mimetype": "text/x-python",
   "name": "python",
   "nbconvert_exporter": "python",
   "pygments_lexer": "ipython3",
   "version": "3.11.1"
  },
  "vscode": {
   "interpreter": {
    "hash": "fac6b4beadddd5e2e0e882132aa47887e1017121b3d39c768b3cfc0620178395"
   }
  }
 },
 "nbformat": 4,
 "nbformat_minor": 5
}
