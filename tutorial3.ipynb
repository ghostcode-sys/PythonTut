{
 "cells": [
  {
   "cell_type": "code",
   "execution_count": 11,
   "id": "19e92e16",
   "metadata": {},
   "outputs": [
    {
     "name": "stdout",
     "output_type": "stream",
     "text": [
      "<class 'tuple'>\n",
      "<class 'int'>\n",
      "<class 'tuple'>\n",
      "<class 'tuple'>\n",
      "('apple', 1, 1.2)\n"
     ]
    }
   ],
   "source": [
    "# 31/12/22\n",
    "\n",
    "# Tuple\n",
    "\n",
    "# intialization\n",
    "\n",
    "# apple is string\n",
    "apple = \"apple\"\n",
    "\n",
    "tup1 = (12, 13, 14, apple) \n",
    "print(type(tup1))\n",
    "tup2 = (12)\n",
    "print(type(tup2))\n",
    "tup3 = (12, )\n",
    "print(type(tup3))\n",
    "\n",
    "thisTup = tuple()\n",
    "\n",
    "print(type(thisTup))\n",
    "\n",
    "thisTup2 = tuple((\"apple\", 1, 1.2))\n",
    "print(thisTup2)"
   ]
  },
  {
   "cell_type": "code",
   "execution_count": 20,
   "id": "d662e665",
   "metadata": {},
   "outputs": [
    {
     "name": "stdout",
     "output_type": "stream",
     "text": [
      "apple\n",
      "1\n",
      "1.2\n",
      "mango\n",
      "0:apple\n",
      "1:1\n",
      "2:1.2\n",
      "3:mango\n",
      "('apple', 1)\n",
      "('apple', 1, 1.2, 'mango', 'mango')\n"
     ]
    }
   ],
   "source": [
    "# unchangle\n",
    "\n",
    "for i in thisTup2:\n",
    "    print(i)\n",
    "# index based\n",
    "for i in range(len(thisTup2)):\n",
    "    print(i, end=\":\")\n",
    "    print(thisTup2[i])\n",
    "\n",
    "print(thisTup2[0:2])\n",
    "\n",
    "lst = list(thisTup2)\n",
    "lst.append(\"mango\")\n",
    "thisTup2 = tuple(lst)\n",
    "print(thisTup2)"
   ]
  },
  {
   "cell_type": "code",
   "execution_count": 25,
   "id": "777c420d",
   "metadata": {},
   "outputs": [
    {
     "name": "stdout",
     "output_type": "stream",
     "text": [
      "(1, 2, 3, 4, 5, 6)\n",
      "(1, 2, 3, 10)\n",
      "(1, 2, 3, 10, 1, 2, 3, 10, 1, 2, 3, 10, 1, 2, 3, 10)\n"
     ]
    }
   ],
   "source": [
    "# join tuple\n",
    "tup1 = (1, 2, 3)\n",
    "tup2 = (4, 5, 6)\n",
    "print(tup1 + tup2)\n",
    "\n",
    "tup3 = (10, )\n",
    "tup1 = tup1 + tup3\n",
    "print(tup1)\n",
    "\n",
    "tup1 = tup1*4\n",
    "print(tup1)"
   ]
  },
  {
   "cell_type": "code",
   "execution_count": 35,
   "id": "931a4548",
   "metadata": {
    "scrolled": true
   },
   "outputs": [
    {
     "name": "stdout",
     "output_type": "stream",
     "text": [
      "<class 'set'>\n",
      "<class 'set'>\n",
      "{1, 'yellow', 'apple'}\n",
      "{1, 'yellow', 'apple', 'color'}\n",
      "{1, 'apple', 'color'}\n",
      "False\n",
      "1\n",
      "apple\n",
      "color\n"
     ]
    }
   ],
   "source": [
    "# set\n",
    "\n",
    "# initialization\n",
    "\n",
    "# empty\n",
    "s = set()\n",
    "print(type(s))\n",
    "\n",
    "# non empty initialization\n",
    "s1 = {12, 13}\n",
    "print(type(s1))\n",
    "\n",
    "s3 = set((1, \"apple\", \"yellow\"))\n",
    "\n",
    "print(s3)\n",
    "\n",
    "# add method\n",
    "s3.add(\"color\")\n",
    "print(s3)\n",
    "\n",
    "#remove method\n",
    "s3.remove(\"yellow\")\n",
    "print(s3)\n",
    "\n",
    "if \"yellow\" in s3:\n",
    "    print(True)\n",
    "else:\n",
    "    print(False)\n",
    "\n",
    "for i in s3:\n",
    "    print(i)"
   ]
  },
  {
   "cell_type": "code",
   "execution_count": 40,
   "id": "88dc5ff8",
   "metadata": {},
   "outputs": [
    {
     "name": "stdout",
     "output_type": "stream",
     "text": [
      "{'veg', 'mango', 'food', 'apple'}\n"
     ]
    }
   ],
   "source": [
    "# union\n",
    "\n",
    "st = set((\"apple\", \"mango\", \"apple\"))\n",
    "st2 = set((\"food\", \"veg\", \"apple\"))\n",
    "z= st.union(st2)\n",
    "print(z)"
   ]
  }
 ],
 "metadata": {
  "kernelspec": {
   "display_name": "Python 3 (ipykernel)",
   "language": "python",
   "name": "python3"
  },
  "language_info": {
   "codemirror_mode": {
    "name": "ipython",
    "version": 3
   },
   "file_extension": ".py",
   "mimetype": "text/x-python",
   "name": "python",
   "nbconvert_exporter": "python",
   "pygments_lexer": "ipython3",
   "version": "3.9.13"
  }
 },
 "nbformat": 4,
 "nbformat_minor": 5
}
