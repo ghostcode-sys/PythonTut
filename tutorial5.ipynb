{
 "cells": [
  {
   "cell_type": "code",
   "execution_count": 7,
   "id": "b8180e2d",
   "metadata": {
    "scrolled": true
   },
   "outputs": [
    {
     "name": "stdout",
     "output_type": "stream",
     "text": [
      "31\n",
      "Anshika Kushwaha\n",
      "Kushwaha Anshika\n"
     ]
    }
   ],
   "source": [
    "# Function in python\n",
    "\n",
    "# syntax\n",
    "\n",
    "# funtion with return type\n",
    "def addTwoDigit(x, y):\n",
    "    sm = x + y\n",
    "#     sm = 15 + 16\n",
    "    return sm\n",
    "    \n",
    "a = 15\n",
    "b = 16\n",
    "\n",
    "val = addTwoDigit(a, b)\n",
    "\n",
    "print(val)\n",
    "\n",
    "\n",
    "# function with non return type\n",
    "def printName(fname, lname):\n",
    "    print(fname, lname)\n",
    "\n",
    "a = \"Anshika\"\n",
    "b = \"Kushwaha\"\n",
    "printName(a, b)\n",
    "printName(b ,a)"
   ]
  },
  {
   "cell_type": "code",
   "execution_count": 15,
   "id": "2e61252d",
   "metadata": {},
   "outputs": [
    {
     "name": "stdout",
     "output_type": "stream",
     "text": [
      "()\n",
      "110\n",
      "(90,)\n",
      "200\n",
      "(90, 80)\n",
      "280\n",
      "(100, 90, 70, 60)\n",
      "430\n"
     ]
    }
   ],
   "source": [
    "# function with unknown no of argument\n",
    "# c is tuple of values\n",
    "def addValues(a, b, *c):\n",
    "    sm = a + b\n",
    "    print(c)\n",
    "    for i in c:\n",
    "        sm += i\n",
    "    return sm\n",
    "\n",
    "a = 10 \n",
    "b = 100\n",
    "c = 90\n",
    "d = 80\n",
    "print(addValues(a, b))\n",
    "print(addValues(a, b, c))\n",
    "print(addValues(a, b, c ,d))\n",
    "print(addValues(a, b, 100 , 90, 70, 60))"
   ]
  },
  {
   "cell_type": "code",
   "execution_count": 13,
   "id": "420270ed",
   "metadata": {},
   "outputs": [
    {
     "name": "stdout",
     "output_type": "stream",
     "text": [
      "{'name': 'Prashant', 'last': 'Chandel', 'gender': 'M'}\n",
      "Mango: 10\n",
      "Banana: 20\n",
      "Mango: 100\n",
      "Banana: 60\n"
     ]
    }
   ],
   "source": [
    "# function with key arguments\n",
    "# kargs = dict\n",
    "def printNames(**kargs):\n",
    "    print(kargs)\n",
    "\n",
    "printNames(name=\"Prashant\", last = \"Chandel\", gender= \"M\")\n",
    "\n",
    "\n",
    "def printFruitsQuantity(mango, banana):\n",
    "    print(\"Mango:\", mango)\n",
    "    print(\"Banana:\", banana)\n",
    "\n",
    "printFruitsQuantity(10 , 20)\n",
    "printFruitsQuantity(banana = 60, mango=100)"
   ]
  },
  {
   "cell_type": "code",
   "execution_count": 16,
   "id": "167b731d",
   "metadata": {},
   "outputs": [
    {
     "name": "stdout",
     "output_type": "stream",
     "text": [
      "Ravi  chandel\n",
      "Ajay kumar mauraya\n"
     ]
    }
   ],
   "source": [
    "# default value\n",
    "def printFullName(fname, lname, mname=\"\"):\n",
    "    print(fname, mname, lname)\n",
    "\n",
    "printFullName(\"Ravi\", \"chandel\")\n",
    "printFullName(\"Ajay\", \"mauraya\", \"kumar\")"
   ]
  },
  {
   "cell_type": "code",
   "execution_count": 26,
   "id": "e0dab965",
   "metadata": {},
   "outputs": [
    {
     "name": "stdout",
     "output_type": "stream",
     "text": [
      "130\n"
     ]
    }
   ],
   "source": [
    "def printSum(sm):\n",
    "    print(sm)\n",
    "    return \n",
    "\n",
    "def dummy():\n",
    "    f = 200\n",
    "    \n",
    "c = 100\n",
    "def addTwoValues(a, b):\n",
    "    sm = a + b + c\n",
    "    printSum(sm)\n",
    "\n",
    "addTwoValues(10, 20)"
   ]
  },
  {
   "cell_type": "code",
   "execution_count": 1,
   "id": "8d46a9a3",
   "metadata": {},
   "outputs": [
    {
     "name": "stdout",
     "output_type": "stream",
     "text": [
      "1\n",
      "2\n",
      "3\n",
      "4\n",
      "5\n"
     ]
    }
   ],
   "source": [
    "# Recursion\n",
    "# It means that a function calls itself.\n",
    "\n",
    "def printNums(a):\n",
    "    if a > 5:\n",
    "        return\n",
    "    print(a)\n",
    "    printNums(a+1)\n",
    "\n",
    "printNums(1)\n"
   ]
  },
  {
   "cell_type": "code",
   "execution_count": null,
   "id": "6eeb559f",
   "metadata": {},
   "outputs": [],
   "source": []
  }
 ],
 "metadata": {
  "kernelspec": {
   "display_name": "Python 3 (ipykernel)",
   "language": "python",
   "name": "python3"
  },
  "language_info": {
   "codemirror_mode": {
    "name": "ipython",
    "version": 3
   },
   "file_extension": ".py",
   "mimetype": "text/x-python",
   "name": "python",
   "nbconvert_exporter": "python",
   "pygments_lexer": "ipython3",
   "version": "3.9.13"
  }
 },
 "nbformat": 4,
 "nbformat_minor": 5
}
